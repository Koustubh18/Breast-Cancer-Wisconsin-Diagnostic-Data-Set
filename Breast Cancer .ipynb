{
 "cells": [
  {
   "cell_type": "code",
   "execution_count": null,
   "metadata": {},
   "outputs": [],
   "source": [
    "import numpy as np\n",
    "import matplotlib.pyplot as plt\n",
    "import pandas as pd\n",
    "\n",
    "import seaborn as sns\n",
    "from scipy import stats\n",
    "from scipy.stats import norm, skew\n",
    "from scipy.special import boxcox1p\n",
    "\n",
    "pd.set_option('display.max_columns', None)\n",
    "pd.set_option('display.max_rows', None)\n",
    "\n",
    "from sklearn.model_selection import train_test_split\n",
    "from sklearn.preprocessing import RobustScaler,StandardScaler\n",
    "from sklearn.model_selection import KFold, cross_val_score, ShuffleSplit,cross_validate\n",
    "from sklearn.pipeline import make_pipeline\n",
    "from sklearn.metrics import classification_report,confusion_matrix\n",
    "from sklearn.svm import SVC\n",
    "\n",
    "from xgboost import XGBClassifier\n",
    "from sklearn.ensemble import RandomForestClassifier, GradientBoostingClassifier,AdaBoostClassifier,ExtraTreesClassifier,BaggingClassifier,VotingClassifier\n",
    "from sklearn.naive_bayes import GaussianNB \n",
    "\n",
    "import warnings\n",
    "def ignore_warn(*args, **kwargs):\n",
    "    pass\n",
    "warnings.warn = ignore_warn"
   ]
  },
  {
   "cell_type": "code",
   "execution_count": null,
   "metadata": {},
   "outputs": [],
   "source": [
    "df = pd.read_csv('data.csv')\n",
    "df['diagnosis'] = df['diagnosis'].apply(lambda x : 1 if x == 'M' else 0)\n",
    "df.drop(['Unnamed: 32','id'],axis = 1,inplace = True)\n",
    "\n",
    "df.head()"
   ]
  },
  {
   "cell_type": "code",
   "execution_count": null,
   "metadata": {},
   "outputs": [],
   "source": [
    "df.info()"
   ]
  },
  {
   "cell_type": "code",
   "execution_count": null,
   "metadata": {},
   "outputs": [],
   "source": [
    "df.isnull().sum()"
   ]
  },
  {
   "cell_type": "code",
   "execution_count": null,
   "metadata": {},
   "outputs": [],
   "source": [
    "df.describe()"
   ]
  },
  {
   "cell_type": "code",
   "execution_count": null,
   "metadata": {},
   "outputs": [],
   "source": [
    "corrmat = df.corr()\n",
    "top_corr_features = corrmat.index[abs(corrmat[\"diagnosis\"])>0.7]\n",
    "plt.figure(figsize=(10,10))\n",
    "g = sns.heatmap(df[top_corr_features].corr(),annot=True,cmap=\"RdYlGn\")"
   ]
  },
  {
   "cell_type": "code",
   "execution_count": null,
   "metadata": {},
   "outputs": [],
   "source": [
    "correlated_col_with_dignosis = ['radius_mean','perimeter_mean','area_mean','concave points_mean','radius_worst',\n",
    "                                'perimeter_worst','area_worst','concave points_worst']\n",
    "\n",
    "for col in correlated_col_with_dignosis:\n",
    "    fig = plt.figure()\n",
    "    plt.hist(df[df['diagnosis'] == 0][col],bins=30,fc = (1,0,0,0.5),label='B')\n",
    "    plt.hist(df[df['diagnosis'] == 1][col],bins=30,fc = (0,1,0,0.5),label = 'M')\n",
    "    plt.legend()\n",
    "    plt.xlabel(col)\n",
    "    plt.ylabel(\"Frequency\")\n",
    "    plt.title(col)\n",
    "    plt.show()"
   ]
  },
  {
   "cell_type": "code",
   "execution_count": null,
   "metadata": {},
   "outputs": [],
   "source": [
    "del_bin = []\n",
    "for i in corrmat.columns:\n",
    "    for j in corrmat.index:\n",
    "        if i!= 'diagnosis' and j!='diagnosis':\n",
    "            if corrmat[j][i] >= 0.90 and corrmat[j][i] < 1.0:\n",
    "                if corrmat['diagnosis'][i] >= corrmat['diagnosis'][j]:\n",
    "                    del_bin.append(j)\n",
    "                else:\n",
    "                    del_bin.append(i)\n",
    "                    \n",
    "del_bin = list(set(del_bin))"
   ]
  },
  {
   "cell_type": "code",
   "execution_count": null,
   "metadata": {},
   "outputs": [],
   "source": [
    "df.drop(del_bin,axis = 1,inplace = True)"
   ]
  },
  {
   "cell_type": "code",
   "execution_count": null,
   "metadata": {},
   "outputs": [],
   "source": [
    "corrmat1 = df.corr()\n",
    "top_corr_features = corrmat1.index[abs(corrmat1[\"diagnosis\"])>0.5]\n",
    "plt.figure(figsize=(10,10))\n",
    "g = sns.heatmap(df[top_corr_features].corr(),annot=True,cmap=\"RdYlGn\")"
   ]
  },
  {
   "cell_type": "code",
   "execution_count": null,
   "metadata": {},
   "outputs": [],
   "source": [
    "correlated_col_with_dignosis_ = ['concave points_worst','perimeter_worst']\n",
    "for col in correlated_col_with_dignosis_:\n",
    "    f1 = plt.figure()\n",
    "    sns.boxplot(df['diagnosis'],df[col])"
   ]
  },
  {
   "cell_type": "code",
   "execution_count": null,
   "metadata": {},
   "outputs": [],
   "source": [
    "df.drop(df[df['diagnosis'] == 0][(df['perimeter_worst']>125) | (df['perimeter_worst']<53)].index,inplace = True)\n",
    "df.drop(df[df['diagnosis'] == 1][df['perimeter_worst']>215].index,inplace = True)\n",
    "df.drop(df[df['diagnosis'] == 0][df['concave points_worst']>0.17].index,inplace = True)\n",
    "df.drop(df[df['diagnosis'] == 1][df['concave points_worst']<0.07].index,inplace = True)"
   ]
  },
  {
   "cell_type": "code",
   "execution_count": null,
   "metadata": {},
   "outputs": [],
   "source": [
    "for col in correlated_col_with_dignosis_:\n",
    "    f1 = plt.figure()\n",
    "    sns.boxplot(df['diagnosis'],df[col])"
   ]
  },
  {
   "cell_type": "code",
   "execution_count": null,
   "metadata": {},
   "outputs": [],
   "source": [
    "x = df.drop('diagnosis',axis = 1)\n",
    "y = df['diagnosis']\n",
    "\n",
    "sc = StandardScaler()\n",
    "x = pd.DataFrame(sc.fit_transform(x),columns = x.columns)\n",
    "\n",
    "x_train,x_test,y_train,y_test = train_test_split(x,y)"
   ]
  },
  {
   "cell_type": "code",
   "execution_count": null,
   "metadata": {},
   "outputs": [],
   "source": [
    "#Validation\n",
    "ss = ShuffleSplit(n_splits = 3, test_size = .3, train_size = .7, random_state = 0)\n",
    "\n",
    "def acc(model):\n",
    "    cvs = (cross_validate(model,x.values,y.values,cv = ss,return_train_score = True))\n",
    "    return cvs['train_score'].mean(),cvs['test_score'].mean()"
   ]
  },
  {
   "cell_type": "code",
   "execution_count": null,
   "metadata": {},
   "outputs": [],
   "source": [
    "cf1 = XGBClassifier()\n",
    "cf2 = AdaBoostClassifier()\n",
    "cf3 = GradientBoostingClassifier()\n",
    "cf4 = RandomForestClassifier()\n",
    "cf5 = ExtraTreesClassifier()\n",
    "cf6 = BaggingClassifier()\n",
    "\n",
    "clf = [('xgb',cf1),('ada',cf2),('gbm',cf3),('rf',cf4),('et',cf5),('bbc',cf6)]"
   ]
  },
  {
   "cell_type": "code",
   "execution_count": null,
   "metadata": {},
   "outputs": [],
   "source": [
    "ens_hard = VotingClassifier(estimators=clf,voting='hard')\n",
    "ens_soft = VotingClassifier(estimators=clf,voting='soft')\n",
    "ens = VotingClassifier(estimators = [('ensh',ens_hard),('enss',ens_soft)],voting = 'hard')"
   ]
  },
  {
   "cell_type": "code",
   "execution_count": null,
   "metadata": {},
   "outputs": [],
   "source": [
    "ens.fit(x_train.values,y_train.values)"
   ]
  },
  {
   "cell_type": "code",
   "execution_count": null,
   "metadata": {},
   "outputs": [],
   "source": [
    "confusion_matrix(y_test,ens.predict(x_test.values))"
   ]
  },
  {
   "cell_type": "code",
   "execution_count": null,
   "metadata": {},
   "outputs": [],
   "source": [
    "print(classification_report(y_test,ens.predict(x_test.values)))"
   ]
  },
  {
   "cell_type": "code",
   "execution_count": null,
   "metadata": {},
   "outputs": [],
   "source": [
    "acc(ens)"
   ]
  }
 ],
 "metadata": {
  "kernelspec": {
   "display_name": "Python 3",
   "language": "python",
   "name": "python3"
  },
  "language_info": {
   "codemirror_mode": {
    "name": "ipython",
    "version": 3
   },
   "file_extension": ".py",
   "mimetype": "text/x-python",
   "name": "python",
   "nbconvert_exporter": "python",
   "pygments_lexer": "ipython3",
   "version": "3.6.9"
  }
 },
 "nbformat": 4,
 "nbformat_minor": 2
}
